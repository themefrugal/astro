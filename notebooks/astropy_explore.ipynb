{
 "cells": [
  {
   "cell_type": "code",
   "execution_count": 3,
   "id": "f0ecf57e",
   "metadata": {},
   "outputs": [],
   "source": [
    "import astropy"
   ]
  },
  {
   "cell_type": "code",
   "execution_count": 46,
   "id": "7cdfc785",
   "metadata": {},
   "outputs": [],
   "source": [
    "from astropy.time import Time\n",
    "from astropy.coordinates import solar_system_ephemeris, EarthLocation\n",
    "from astropy.coordinates import get_body_barycentric, get_body, get_moon, get_body_barycentric_posvel"
   ]
  },
  {
   "cell_type": "code",
   "execution_count": 5,
   "id": "bde7a735",
   "metadata": {},
   "outputs": [],
   "source": [
    "t = Time(\"2014-09-22 23:22\")\n",
    "loc = EarthLocation.of_site('Indian Astronomical Observatory') "
   ]
  },
  {
   "cell_type": "code",
   "execution_count": 8,
   "id": "bb31b63f",
   "metadata": {},
   "outputs": [],
   "source": []
  },
  {
   "cell_type": "code",
   "execution_count": 9,
   "id": "e47d365c",
   "metadata": {},
   "outputs": [],
   "source": [
    "# EarthLocation.get_site_names()"
   ]
  },
  {
   "cell_type": "code",
   "execution_count": 10,
   "id": "e67e195b",
   "metadata": {},
   "outputs": [],
   "source": [
    "with solar_system_ephemeris.set('builtin'):\n",
    "    jup = get_body('jupiter', t, loc)"
   ]
  },
  {
   "cell_type": "code",
   "execution_count": 11,
   "id": "cfa865b6",
   "metadata": {},
   "outputs": [
    {
     "data": {
      "text/plain": [
       "<SkyCoord (GCRS: obstime=2014-09-22 23:22:00.000, obsgeoloc=(1752598.66921008, 5079151.67287141, 3433535.67894955) m, obsgeovel=(-370.38759843, 127.44030483, 0.53943655) m / s): (ra, dec, distance) in (deg, deg, AU)\n",
       "    (136.91141791, 17.02954035, 5.94382837)>"
      ]
     },
     "execution_count": 11,
     "metadata": {},
     "output_type": "execute_result"
    }
   ],
   "source": [
    "jup"
   ]
  },
  {
   "cell_type": "code",
   "execution_count": 52,
   "id": "214c5bd0",
   "metadata": {},
   "outputs": [],
   "source": [
    "t = Time(\"2022-12-08 20:30\")\n",
    "loc = EarthLocation.from_geodetic(78.1460, 11.6643)"
   ]
  },
  {
   "cell_type": "code",
   "execution_count": 53,
   "id": "77a70366",
   "metadata": {},
   "outputs": [],
   "source": [
    "with solar_system_ephemeris.set('builtin'):\n",
    "    moon = get_body('moon', t, loc)\n",
    "    jup = get_body('jupiter', t, loc)\n",
    "    sun = get_body('sun', t, loc)\n",
    "    mars = get_body('mars', t, loc)\n",
    "    merc = get_body('mercury', t, loc)\n",
    "    ven = get_body('venus', t, loc)\n",
    "    sat = get_body('saturn', t, loc)\n",
    "    ura = get_body('uranus', t, loc)\n",
    "    nep = get_body('neptune', t, loc)\n",
    "    bar = get_body('earth-moon-barycenter', t, loc)\n",
    "    "
   ]
  },
  {
   "cell_type": "code",
   "execution_count": 54,
   "id": "5b077635",
   "metadata": {},
   "outputs": [
    {
     "data": {
      "text/plain": [
       "<SkyCoord (GCRS: obstime=2022-12-08 20:30:00.000, obsgeoloc=(-1395038.8201251, 6088910.63144415, 1283980.28895299) m, obsgeovel=(-444.00697295, -101.93410213, 0.98184881) m / s): (ra, dec, distance) in (deg, deg, AU)\n",
       "    (255.23567112, -22.74171335, 0.98505586)>"
      ]
     },
     "execution_count": 54,
     "metadata": {},
     "output_type": "execute_result"
    }
   ],
   "source": [
    "sun"
   ]
  },
  {
   "cell_type": "code",
   "execution_count": 21,
   "id": "d95f2596",
   "metadata": {},
   "outputs": [
    {
     "data": {
      "text/plain": [
       "<SkyCoord (GCRS: obstime=2022-12-08 20:30:00.000, obsgeoloc=(-1395038.8201251, 6088910.63144415, 1283980.28895299) m, obsgeovel=(-444.00697295, -101.93410213, 0.98184881) m / s): (ra, dec, distance) in (deg, deg, AU)\n",
       "    (359.51442892, -1.72359546, 4.6445213)>"
      ]
     },
     "execution_count": 21,
     "metadata": {},
     "output_type": "execute_result"
    }
   ],
   "source": [
    "jup"
   ]
  },
  {
   "cell_type": "code",
   "execution_count": 22,
   "id": "222b71bc",
   "metadata": {},
   "outputs": [
    {
     "data": {
      "text/plain": [
       "<SkyCoord (GCRS: obstime=2022-12-08 20:30:00.000, obsgeoloc=(-1395038.8201251, 6088910.63144415, 1283980.28895299) m, obsgeovel=(-444.00697295, -101.93410213, 0.98184881) m / s): (ra, dec, distance) in (deg, deg, AU)\n",
       "    (82.94355153, 26.93250051, 0.00264741)>"
      ]
     },
     "execution_count": 22,
     "metadata": {},
     "output_type": "execute_result"
    }
   ],
   "source": [
    "moon"
   ]
  },
  {
   "cell_type": "code",
   "execution_count": 24,
   "id": "c68d1122",
   "metadata": {},
   "outputs": [
    {
     "data": {
      "text/plain": [
       "<SkyCoord (GCRS: obstime=2022-12-08 20:30:00.000, obsgeoloc=(-1395038.8201251, 6088910.63144415, 1283980.28895299) m, obsgeovel=(-444.00697295, -101.93410213, 0.98184881) m / s): (ra, dec, distance) in (deg, deg, AU)\n",
       "    (272.83241126, -25.72610141, 1.2593143)>"
      ]
     },
     "execution_count": 24,
     "metadata": {},
     "output_type": "execute_result"
    }
   ],
   "source": [
    "merc"
   ]
  },
  {
   "cell_type": "code",
   "execution_count": 26,
   "id": "c6258c21",
   "metadata": {},
   "outputs": [
    {
     "data": {
      "text/plain": [
       "<SkyCoord (GCRS: obstime=2022-12-08 20:30:00.000, obsgeoloc=(-1395038.8201251, 6088910.63144415, 1283980.28895299) m, obsgeovel=(-444.00697295, -101.93410213, 0.98184881) m / s): (ra, dec, distance) in (deg, deg, AU)\n",
       "    (267.85469365, -24.10328039, 1.66467371)>"
      ]
     },
     "execution_count": 26,
     "metadata": {},
     "output_type": "execute_result"
    }
   ],
   "source": [
    "ven"
   ]
  },
  {
   "cell_type": "code",
   "execution_count": 27,
   "id": "e40ac824",
   "metadata": {},
   "outputs": [
    {
     "data": {
      "text/plain": [
       "<SkyCoord (GCRS: obstime=2022-12-08 20:30:00.000, obsgeoloc=(-1395038.8201251, 6088910.63144415, 1283980.28895299) m, obsgeovel=(-444.00697295, -101.93410213, 0.98184881) m / s): (ra, dec, distance) in (deg, deg, AU)\n",
       "    (322.88470742, -15.98364276, 10.23893732)>"
      ]
     },
     "execution_count": 27,
     "metadata": {},
     "output_type": "execute_result"
    }
   ],
   "source": [
    "sat"
   ]
  },
  {
   "cell_type": "code",
   "execution_count": 28,
   "id": "655b7e15",
   "metadata": {},
   "outputs": [
    {
     "data": {
      "text/plain": [
       "<SkyCoord (GCRS: obstime=2022-12-08 20:30:00.000, obsgeoloc=(-1395038.8201251, 6088910.63144415, 1283980.28895299) m, obsgeovel=(-444.00697295, -101.93410213, 0.98184881) m / s): (ra, dec, distance) in (deg, deg, AU)\n",
       "    (43.09303515, 16.11468409, 18.82048023)>"
      ]
     },
     "execution_count": 28,
     "metadata": {},
     "output_type": "execute_result"
    }
   ],
   "source": [
    "ura"
   ]
  },
  {
   "cell_type": "code",
   "execution_count": 29,
   "id": "77faaab2",
   "metadata": {},
   "outputs": [
    {
     "data": {
      "text/plain": [
       "<SkyCoord (GCRS: obstime=2022-12-08 20:30:00.000, obsgeoloc=(-1395038.8201251, 6088910.63144415, 1283980.28895299) m, obsgeovel=(-444.00697295, -101.93410213, 0.98184881) m / s): (ra, dec, distance) in (deg, deg, AU)\n",
       "    (353.43568752, -4.14280919, 29.7959127)>"
      ]
     },
     "execution_count": 29,
     "metadata": {},
     "output_type": "execute_result"
    }
   ],
   "source": [
    "nep"
   ]
  },
  {
   "cell_type": "code",
   "execution_count": 32,
   "id": "6aab6d61",
   "metadata": {},
   "outputs": [
    {
     "data": {
      "text/plain": [
       "<SkyCoord (GCRS: obstime=2022-12-08 20:30:00.000, obsgeoloc=(-1395038.8201251, 6088910.63144415, 1283980.28895299) m, obsgeovel=(-444.00697295, -101.93410213, 0.98184881) m / s): (ra, dec, distance) in (deg, deg, AU)\n",
       "    (303.91697002, 17.75598473, 1.69904772e-05)>"
      ]
     },
     "execution_count": 32,
     "metadata": {},
     "output_type": "execute_result"
    }
   ],
   "source": [
    "bar"
   ]
  },
  {
   "cell_type": "code",
   "execution_count": null,
   "id": "eebfded6",
   "metadata": {},
   "outputs": [],
   "source": [
    "with solar_system_ephemeris.set('builtin'):\n",
    "    moon = get_body('moon', t, loc)\n",
    "    jup = get_body('jupiter', t, loc)\n",
    "    sun = get_body('sun', t, loc)\n",
    "    mars = get_body('mars', t, loc)\n",
    "    merc = get_body('mercury', t, loc)\n",
    "    ven = get_body('venus', t, loc)\n",
    "    sat = get_body('saturn', t, loc)\n",
    "    ura = get_body('uranus', t, loc)\n",
    "    nep = get_body('neptune', t, loc)\n",
    "    bar = get_body('earth-moon-barycenter', t, loc)"
   ]
  },
  {
   "cell_type": "code",
   "execution_count": 49,
   "id": "ea4a06a8",
   "metadata": {},
   "outputs": [],
   "source": [
    "with solar_system_ephemeris.set('builtin'):\n",
    "    moon = get_body_barycentric('moon', t)\n",
    "    sun = get_body_barycentric('sun', t)\n",
    "    moonp = get_body_barycentric_posvel('moon', t)    "
   ]
  },
  {
   "cell_type": "code",
   "execution_count": 50,
   "id": "8a6a6e26",
   "metadata": {},
   "outputs": [
    {
     "data": {
      "text/plain": [
       "<CartesianRepresentation (x, y, z) in AU\n",
       "    (0.22263845, 0.88103882, 0.38232171)>"
      ]
     },
     "execution_count": 50,
     "metadata": {},
     "output_type": "execute_result"
    }
   ],
   "source": [
    "moon"
   ]
  },
  {
   "cell_type": "code",
   "execution_count": 51,
   "id": "9642b6eb",
   "metadata": {},
   "outputs": [
    {
     "data": {
      "text/plain": [
       "(<CartesianRepresentation (x, y, z) in AU\n",
       "     (0.22263845, 0.88103882, 0.38232171)>,\n",
       " <CartesianRepresentation (x, y, z) in AU / d\n",
       "     (-0.01755653, 0.00369024, 0.00164227)>)"
      ]
     },
     "execution_count": 51,
     "metadata": {},
     "output_type": "execute_result"
    }
   ],
   "source": [
    "moonp"
   ]
  },
  {
   "cell_type": "code",
   "execution_count": 3,
   "id": "a2acf6d3",
   "metadata": {},
   "outputs": [
    {
     "name": "stdout",
     "output_type": "stream",
     "text": [
      "Sun altitude: 87:46:22.9, Sun azimuth: 68:19:05.7\n"
     ]
    }
   ],
   "source": [
    "import ephem\n",
    "\n",
    "def calculate_sun_position(lat, lon):\n",
    "    observer = ephem.Observer()\n",
    "    observer.lat = str(lat)\n",
    "    observer.lon = str(lon)\n",
    "    sun = ephem.Sun()\n",
    "    sun.compute(observer)\n",
    "    return (sun.alt, sun.az)\n",
    "\n",
    "# Example usage\n",
    "lat = 11 + (39/60)  # Salem latitude\n",
    "lon = 78 + (12/60)  # Salem longitude\n",
    "alt, az = calculate_sun_position(lat, lon)\n",
    "print(f\"Sun altitude: {alt}, Sun azimuth: {az}\")"
   ]
  },
  {
   "cell_type": "code",
   "execution_count": null,
   "id": "a02d3341",
   "metadata": {},
   "outputs": [],
   "source": []
  }
 ],
 "metadata": {
  "kernelspec": {
   "display_name": "Python 3 (ipykernel)",
   "language": "python",
   "name": "python3"
  },
  "language_info": {
   "codemirror_mode": {
    "name": "ipython",
    "version": 3
   },
   "file_extension": ".py",
   "mimetype": "text/x-python",
   "name": "python",
   "nbconvert_exporter": "python",
   "pygments_lexer": "ipython3",
   "version": "3.9.13"
  },
  "toc": {
   "base_numbering": 1,
   "nav_menu": {},
   "number_sections": true,
   "sideBar": true,
   "skip_h1_title": false,
   "title_cell": "Table of Contents",
   "title_sidebar": "Contents",
   "toc_cell": false,
   "toc_position": {},
   "toc_section_display": true,
   "toc_window_display": false
  }
 },
 "nbformat": 4,
 "nbformat_minor": 5
}
